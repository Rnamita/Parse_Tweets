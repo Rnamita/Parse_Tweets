{
  "nbformat": 4,
  "nbformat_minor": 0,
  "metadata": {
    "colab": {
      "name": "parse_tweet_replies.ipynb",
      "provenance": [],
      "collapsed_sections": []
    },
    "kernelspec": {
      "name": "python3",
      "display_name": "Python 3"
    },
    "language_info": {
      "name": "python"
    }
  },
  "cells": [
    {
      "cell_type": "code",
      "metadata": {
        "id": "byv5AP-zhece"
      },
      "source": [
        "import numpy as np\n",
        "import tweepy\n",
        "import requests\n",
        "import base64\n",
        "import pandas as pd\n",
        "import csv\n",
        "import tweepy\n",
        "import ssl\n",
        "#Replace the values for onsumer_key ,consumer_secret, access_token and access_token_secret from the developer portal\n",
        "consumer_key=\"consumer_key\"\n",
        "consumer_secret=\"consumer_secret\"\n",
        "access_token=\"access_token\"\n",
        "access_token_secret=\"access_token_secret\"\n",
        "auth = tweepy.OAuthHandler(consumer_key, consumer_secret)\n",
        "auth.set_access_token(access_token, access_token_secret)\n",
        "api = tweepy.API(auth)"
      ],
      "execution_count": null,
      "outputs": []
    },
    {
      "cell_type": "code",
      "metadata": {
        "id": "8s2Ommyzhox-"
      },
      "source": [
        "name = 'username' #Replace name and tweet_id values with the user and tweet_id you want to parse for\n",
        "tweet_id = 'tweet_id'\n",
        "replies=[]\n",
        "for tweet in tweepy.Cursor(api.search,q='to:'+name, result_type='recent', timeout=999999).items(1000):\n",
        "    if hasattr(tweet, 'in_reply_to_status_id_str'):\n",
        "            replies.append(tweet)"
      ],
      "execution_count": null,
      "outputs": []
    },
    {
      "cell_type": "code",
      "metadata": {
        "id": "sI7Uo29rh4_G"
      },
      "source": [
        "#Store replies in a .csv file\n",
        "with open('replies.csv', 'w') as f:\n",
        "    csv_writer = csv.DictWriter(f, fieldnames=('user', 'text'))\n",
        "    csv_writer.writeheader()\n",
        "    for tweet in replies:\n",
        "        row = {'user': tweet.user.screen_name, 'text': tweet.text.replace('\\n', ' ')}\n",
        "        csv_writer.writerow(row)"
      ],
      "execution_count": null,
      "outputs": []
    }
  ]
}